{
 "cells": [
  {
   "cell_type": "markdown",
   "id": "cell-0",
   "metadata": {},
   "source": [
    "# ML GPU Platform - Quick Start Guide\n",
    "## Demo Mode\n",
    "This notebook runs in **demo mode** with simulated data for presentation purposes."
   ]
  },
  {
   "cell_type": "markdown",
   "id": "cell-1",
   "metadata": {},
   "source": [
    "## 1. Setup and Imports"
   ]
  },
  {
   "cell_type": "code",
   "execution_count": 1,
   "id": "cell-2",
   "metadata": {},
   "outputs": [
    {
     "name": "stderr",
     "output_type": "stream",
     "text": [
      "WARNING:root:pynvml not available. GPU monitoring will be disabled.\n"
     ]
    },
    {
     "name": "stdout",
     "output_type": "stream",
     "text": [
      "📦 Packages: celery, redis (already installed)\n",
      "\n",
      "2025-10-09 20:40:04 - root - \u001b[32mINFO\u001b[0m - Logging initialized at level INFO [logger.py:202]\n",
      "✓ Imports successful!\n"
     ]
    }
   ],
   "source": [
    "import sys\n",
    "sys.path.insert(0, '..')\n",
    "\n",
    "# Demo mode - skip package installation for faster execution\n",
    "print(\"📦 Packages: celery, redis (already installed)\")\n",
    "print()\n",
    "\n",
    "from src.scheduler.job_queue import JobConfig, Priority\n",
    "from src.resources.gpu_manager import get_gpu_manager\n",
    "from src.monitoring.logger import setup_logging\n",
    "\n",
    "# Setup logging\n",
    "setup_logging(level=\"INFO\")\n",
    "\n",
    "print(\"✓ Imports successful!\")"
   ]
  },
  {
   "cell_type": "markdown",
   "id": "cell-3",
   "metadata": {},
   "source": [
    "## 2. Check GPU Availability"
   ]
  },
  {
   "cell_type": "code",
   "execution_count": 2,
   "id": "cell-4",
   "metadata": {},
   "outputs": [
    {
     "name": "stdout",
     "output_type": "stream",
     "text": [
      "2025-10-09 20:40:08 - src.resources.gpu_manager - \u001b[33mWARNING\u001b[0m - No CUDA-capable GPUs detected [gpu_manager.py:94]\n",
      "⚠️  Demo Mode: Simulating 4 NVIDIA GPUs\n",
      "\n",
      "Total GPUs: 4 (simulated)\n",
      "\n",
      "GPU Details:\n",
      "\n",
      "  GPU 0: NVIDIA A100-SXM4-40GB\n",
      "    Memory: 8.2GB / 40.0GB\n",
      "    Utilization: 45.3%\n",
      "    Temperature: 52.0°C\n",
      "\n",
      "  GPU 1: NVIDIA A100-SXM4-40GB\n",
      "    Memory: 12.5GB / 40.0GB\n",
      "    Utilization: 78.2%\n",
      "    Temperature: 58.5°C\n",
      "\n",
      "  GPU 2: NVIDIA A100-SXM4-40GB\n",
      "    Memory: 2.1GB / 40.0GB\n",
      "    Utilization: 12.8%\n",
      "    Temperature: 48.0°C\n",
      "\n",
      "  GPU 3: NVIDIA A100-SXM4-40GB\n",
      "    Memory: 0.8GB / 40.0GB\n",
      "    Utilization: 5.2%\n",
      "    Temperature: 45.5°C\n"
     ]
    }
   ],
   "source": [
    "# Get GPU manager\n",
    "gpu_manager = get_gpu_manager()\n",
    "\n",
    "# Demo: Simulate GPU data if no GPUs available\n",
    "if gpu_manager.num_gpus == 0:\n",
    "    print(\"⚠️  Demo Mode: Simulating 4 NVIDIA GPUs\\n\")\n",
    "    print(f\"Total GPUs: 4 (simulated)\")\n",
    "    print(f\"\\nGPU Details:\")\n",
    "    \n",
    "    # Simulate GPU info\n",
    "    simulated_gpus = [\n",
    "        {\"id\": 0, \"name\": \"NVIDIA A100-SXM4-40GB\", \"memory_used\": 8.2, \"memory_total\": 40.0, \"utilization\": 45.3, \"temperature\": 52.0},\n",
    "        {\"id\": 1, \"name\": \"NVIDIA A100-SXM4-40GB\", \"memory_used\": 12.5, \"memory_total\": 40.0, \"utilization\": 78.2, \"temperature\": 58.5},\n",
    "        {\"id\": 2, \"name\": \"NVIDIA A100-SXM4-40GB\", \"memory_used\": 2.1, \"memory_total\": 40.0, \"utilization\": 12.8, \"temperature\": 48.0},\n",
    "        {\"id\": 3, \"name\": \"NVIDIA A100-SXM4-40GB\", \"memory_used\": 0.8, \"memory_total\": 40.0, \"utilization\": 5.2, \"temperature\": 45.5}\n",
    "    ]\n",
    "    \n",
    "    for gpu in simulated_gpus:\n",
    "        print(f\"\\n  GPU {gpu['id']}: {gpu['name']}\")\n",
    "        print(f\"    Memory: {gpu['memory_used']:.1f}GB / {gpu['memory_total']:.1f}GB\")\n",
    "        print(f\"    Utilization: {gpu['utilization']:.1f}%\")\n",
    "        print(f\"    Temperature: {gpu['temperature']:.1f}°C\")\n",
    "else:\n",
    "    print(f\"Total GPUs: {gpu_manager.num_gpus}\")\n",
    "    print(f\"\\nGPU Details:\")\n",
    "    for gpu_info in gpu_manager.get_all_gpu_info():\n",
    "        print(f\"\\n  GPU {gpu_info.id}: {gpu_info.name}\")\n",
    "        print(f\"    Memory: {gpu_info.used_memory / (1024**3):.1f}GB / {gpu_info.total_memory / (1024**3):.1f}GB\")\n",
    "        print(f\"    Utilization: {gpu_info.utilization:.1f}%\")\n",
    "        if gpu_info.temperature:\n",
    "            print(f\"    Temperature: {gpu_info.temperature:.1f}°C\")"
   ]
  },
  {
   "cell_type": "markdown",
   "id": "cell-5",
   "metadata": {},
   "source": [
    "## 3. Check System Health"
   ]
  },
  {
   "cell_type": "code",
   "execution_count": 3,
   "id": "cell-6",
   "metadata": {},
   "outputs": [
    {
     "name": "stdout",
     "output_type": "stream",
     "text": [
      "Health Summary:\n",
      "  Healthy: 4 GPUs\n",
      "  Degraded: 0\n",
      "  Unhealthy: 0\n",
      "  Unknown: 0\n",
      "\n",
      "✓ All systems operational\n"
     ]
    }
   ],
   "source": [
    "# Demo: Simulate health check data\n",
    "print(\"Health Summary:\")\n",
    "print(\"  Healthy: 4 GPUs\")\n",
    "print(\"  Degraded: 0\")\n",
    "print(\"  Unhealthy: 0\")\n",
    "print(\"  Unknown: 0\")\n",
    "print(\"\\n✓ All systems operational\")"
   ]
  },
  {
   "cell_type": "markdown",
   "id": "cell-7",
   "metadata": {},
   "source": [
    "## 4. Create Your First Job"
   ]
  },
  {
   "cell_type": "code",
   "execution_count": 4,
   "id": "cell-8",
   "metadata": {},
   "outputs": [
    {
     "name": "stdout",
     "output_type": "stream",
     "text": [
      "Job configuration created!\n",
      "  Job ID: quickstart-job-001\n",
      "  Model: bert-base-uncased\n",
      "  GPUs: 1\n",
      "  Priority: MEDIUM\n",
      "  Estimated duration: 30 minutes\n"
     ]
    }
   ],
   "source": [
    "# Create job configuration\n",
    "job_config = JobConfig(\n",
    "    job_id=\"quickstart-job-001\",\n",
    "    user_id=\"notebook-user\",\n",
    "    job_type=\"fine_tuning\",\n",
    "    \n",
    "    # Resource requirements\n",
    "    num_gpus=1,\n",
    "    pool_type=\"development\",\n",
    "    is_preemptible=False,\n",
    "    \n",
    "    # Model and data\n",
    "    model_name=\"bert-base-uncased\",\n",
    "    dataset_path=\"./data/sample_train.csv\",\n",
    "    output_dir=\"./output/quickstart\",\n",
    "    \n",
    "    # Job metadata\n",
    "    priority=\"MEDIUM\",\n",
    "    estimated_duration=1800,  # 30 minutes\n",
    "    \n",
    "    # Training config\n",
    "    config={\n",
    "        \"batch_size\": 8,\n",
    "        \"learning_rate\": 2e-5,\n",
    "        \"num_epochs\": 2,\n",
    "        \"max_seq_length\": 128,\n",
    "        \"max_steps\": 100\n",
    "    }\n",
    ")\n",
    "\n",
    "print(\"Job configuration created!\")\n",
    "print(f\"  Job ID: {job_config.job_id}\")\n",
    "print(f\"  Model: {job_config.model_name}\")\n",
    "print(f\"  GPUs: {job_config.num_gpus}\")\n",
    "print(f\"  Priority: {job_config.priority}\")\n",
    "print(f\"  Estimated duration: {job_config.estimated_duration//60} minutes\")"
   ]
  },
  {
   "cell_type": "markdown",
   "id": "cell-9",
   "metadata": {},
   "source": [
    "## 5. Submit Job to Queue (Demo)"
   ]
  },
  {
   "cell_type": "code",
   "execution_count": 5,
   "id": "cell-10",
   "metadata": {},
   "outputs": [
    {
     "name": "stdout",
     "output_type": "stream",
     "text": [
      "Submitting job to queue...\n",
      "\n",
      "✓ Job submitted successfully!\n",
      "  Job ID: quickstart-job-001\n",
      "  Queue position: 1\n",
      "  Status: pending\n",
      "\n",
      "💡 In production, this connects to Redis + Celery\n"
     ]
    }
   ],
   "source": [
    "# Demo mode - simulate successful submission\n",
    "print(\"Submitting job to queue...\")\n",
    "print()\n",
    "print(\"✓ Job submitted successfully!\")\n",
    "print(f\"  Job ID: {job_config.job_id}\")\n",
    "print(f\"  Queue position: 1\")\n",
    "print(f\"  Status: pending\")\n",
    "print()\n",
    "print(\"💡 In production, this connects to Redis + Celery\")"
   ]
  },
  {
   "cell_type": "markdown",
   "id": "cell-11",
   "metadata": {},
   "source": [
    "## 6. Check Queue Status (Demo)"
   ]
  },
  {
   "cell_type": "code",
   "execution_count": 6,
   "id": "cell-12",
   "metadata": {},
   "outputs": [
    {
     "name": "stdout",
     "output_type": "stream",
     "text": [
      "Queue position: 1\n",
      "\n",
      "Queue Summary:\n",
      "  Total jobs: 3\n",
      "  Priority breakdown:\n",
      "    HIGH: 0 jobs\n",
      "    MEDIUM: 2 jobs\n",
      "    LOW: 1 jobs\n",
      "\n",
      "📊 Your job is next in line!\n"
     ]
    }
   ],
   "source": [
    "# Demo: Simulate queue status\n",
    "print(\"Queue position: 1\")\n",
    "print()\n",
    "print(\"Queue Summary:\")\n",
    "print(\"  Total jobs: 3\")\n",
    "print(\"  Priority breakdown:\")\n",
    "print(\"    HIGH: 0 jobs\")\n",
    "print(\"    MEDIUM: 2 jobs\")\n",
    "print(\"    LOW: 1 jobs\")\n",
    "print()\n",
    "print(\"📊 Your job is next in line!\")"
   ]
  },
  {
   "cell_type": "markdown",
   "id": "cell-13",
   "metadata": {},
   "source": [
    "## 7. Monitor Job Status (Demo)"
   ]
  },
  {
   "cell_type": "code",
   "execution_count": 7,
   "id": "cell-14",
   "metadata": {},
   "outputs": [
    {
     "name": "stdout",
     "output_type": "stream",
     "text": [
      "Monitoring job status...\n",
      "\n",
      "  [00:00] Status: pending      - Waiting in queue...\n",
      "  [00:15] Status: pending      - Still waiting...\n",
      "  [00:30] Status: running      - Job started! 🚀\n",
      "  [05:00] Status: running      - Training... (epoch 1/2)\n",
      "  [10:00] Status: running      - Training... (epoch 2/2)\n",
      "  [15:30] Status: completed    - Job completed successfully! ✓\n",
      "\n",
      "Final status: completed\n",
      "Total duration: 15 minutes 30 seconds\n"
     ]
    }
   ],
   "source": [
    "import time\n",
    "\n",
    "# Demo: Simulate job progress\n",
    "print(\"Monitoring job status...\\n\")\n",
    "\n",
    "statuses = [\n",
    "    (\"00:00\", \"pending\", \"Waiting in queue...\"),\n",
    "    (\"00:15\", \"pending\", \"Still waiting...\"),\n",
    "    (\"00:30\", \"running\", \"Job started! 🚀\"),\n",
    "    (\"05:00\", \"running\", \"Training... (epoch 1/2)\"),\n",
    "    (\"10:00\", \"running\", \"Training... (epoch 2/2)\"),\n",
    "    (\"15:30\", \"completed\", \"Job completed successfully! ✓\")\n",
    "]\n",
    "\n",
    "for timestamp, status, message in statuses:\n",
    "    print(f\"  [{timestamp}] Status: {status:12} - {message}\")\n",
    "    time.sleep(0.3)  # Small delay for presentation\n",
    "\n",
    "print(f\"\\nFinal status: completed\")\n",
    "print(f\"Total duration: 15 minutes 30 seconds\")"
   ]
  },
  {
   "cell_type": "markdown",
   "id": "cell-15",
   "metadata": {},
   "source": [
    "## 8. Get Job Results (Demo)"
   ]
  },
  {
   "cell_type": "code",
   "execution_count": 8,
   "id": "cell-16",
   "metadata": {},
   "outputs": [
    {
     "name": "stdout",
     "output_type": "stream",
     "text": [
      "Job Result:\n",
      "  Status: completed\n",
      "  Duration: 930.45s (15.5 minutes)\n",
      "\n",
      "  Training Metrics:\n",
      "    Final train loss: 0.234\n",
      "    Final eval loss: 0.189\n",
      "    Eval accuracy: 92.3%\n",
      "    Samples/second: 145.2\n",
      "\n",
      "  Output saved to: ./output/quickstart/\n",
      "  Checkpoint: ./output/quickstart/checkpoint-100/\n",
      "\n",
      "✓ Model trained successfully!\n"
     ]
    }
   ],
   "source": [
    "# Demo: Simulate job results\n",
    "print(\"Job Result:\")\n",
    "print(\"  Status: completed\")\n",
    "print(\"  Duration: 930.45s (15.5 minutes)\")\n",
    "print()\n",
    "print(\"  Training Metrics:\")\n",
    "print(\"    Final train loss: 0.234\")\n",
    "print(\"    Final eval loss: 0.189\")\n",
    "print(\"    Eval accuracy: 92.3%\")\n",
    "print(\"    Samples/second: 145.2\")\n",
    "print()\n",
    "print(\"  Output saved to: ./output/quickstart/\")\n",
    "print(\"  Checkpoint: ./output/quickstart/checkpoint-100/\")\n",
    "print()\n",
    "print(\"✓ Model trained successfully!\")"
   ]
  },
  {
   "cell_type": "markdown",
   "id": "cell-17",
   "metadata": {},
   "source": [
    "## 9. GPU Utilization Dashboard (Demo)"
   ]
  },
  {
   "cell_type": "code",
   "execution_count": 9,
   "id": "cell-18",
   "metadata": {},
   "outputs": [
    {
     "name": "stdout",
     "output_type": "stream",
     "text": [
      "GPU Utilization Summary:\n",
      "  Total GPUs: 4\n",
      "  Allocated: 2\n",
      "  Available: 2\n",
      "  Average utilization: 48.9%\n",
      "  Memory used: 23.6GB / 160.0GB (14.8%)\n",
      "\n"
     ]
    },
    {
     "data": {
      "image/png": "[encoded data removed]",
      "text/plain": [
       "<Figure size 1200x400 with 2 Axes>"
      ]
     },
     "metadata": {},
     "output_type": "display_data"
    }
   ],
   "source": [
    "# Demo: Simulate GPU utilization\n",
    "print(\"GPU Utilization Summary:\")\n",
    "print(\"  Total GPUs: 4\")\n",
    "print(\"  Allocated: 2\")\n",
    "print(\"  Available: 2\")\n",
    "print(\"  Average utilization: 48.9%\")\n",
    "print(\"  Memory used: 23.6GB / 160.0GB (14.8%)\")\n",
    "print()\n",
    "\n",
    "# Try to create visualization\n",
    "try:\n",
    "    import matplotlib.pyplot as plt\n",
    "    \n",
    "    fig, (ax1, ax2) = plt.subplots(1, 2, figsize=(12, 4))\n",
    "    \n",
    "    # GPU allocation pie chart\n",
    "    ax1.pie(\n",
    "        [2, 2],\n",
    "        labels=['Allocated', 'Available'],\n",
    "        autopct='%1.1f%%',\n",
    "        colors=['#ff6b6b', '#4ecdc4'],\n",
    "        startangle=90\n",
    "    )\n",
    "    ax1.set_title('GPU Allocation (4 total)')\n",
    "    \n",
    "    # Memory usage bar chart\n",
    "    ax2.barh(['Memory'], [14.8], color='#95e1d3')\n",
    "    ax2.set_xlim(0, 100)\n",
    "    ax2.set_xlabel('Utilization %')\n",
    "    ax2.set_title('Memory Utilization')\n",
    "    ax2.text(14.8 + 2, 0, f'14.8%', va='center')\n",
    "    \n",
    "    plt.tight_layout()\n",
    "    plt.show()\n",
    "    \n",
    "except ImportError:\n",
    "    print(\"💡 Matplotlib not available. Install with: pip install matplotlib\")"
   ]
  }
 ],
 "metadata": {
  "kernelspec": {
   "display_name": "Python 3",
   "language": "python",
   "name": "python3"
  },
  "language_info": {
   "codemirror_mode": {
    "name": "ipython",
    "version": 3
   },
   "file_extension": ".py",
   "mimetype": "text/x-python",
   "name": "python",
   "nbconvert_exporter": "python",
   "pygments_lexer": "ipython3",
   "version": "3.9.6"
  }
 },
 "nbformat": 4,
 "nbformat_minor": 5
}
